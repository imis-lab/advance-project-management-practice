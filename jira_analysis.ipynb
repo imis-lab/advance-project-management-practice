{
 "cells": [
  {
   "cell_type": "markdown",
   "metadata": {},
   "source": [
    "# Jira HADOOP data analysis"
   ]
  },
  {
   "cell_type": "code",
   "execution_count": 104,
   "metadata": {},
   "outputs": [],
   "source": [
    "import json\n",
    "from itertools import chain\n",
    "import pandas\n",
    "import jira"
   ]
  },
  {
   "cell_type": "code",
   "execution_count": 5,
   "metadata": {},
   "outputs": [],
   "source": [
    "with open('hadoop_data.json') as f:\n",
    "    hadoop_data = json.load(f)\n",
    "hadoop_data = hadoop_data['hadoop']"
   ]
  },
  {
   "cell_type": "code",
   "execution_count": 29,
   "metadata": {},
   "outputs": [],
   "source": [
    "with open('hadoop_issues.json') as f:\n",
    "    issues = json.load(f)\n",
    "issues = issues['issues']"
   ]
  },
  {
   "cell_type": "markdown",
   "metadata": {},
   "source": [
    "## Important attributes (Project HADOOP)"
   ]
  },
  {
   "cell_type": "code",
   "execution_count": 63,
   "metadata": {},
   "outputs": [
    {
     "data": {
      "text/plain": [
       "('12310240',\n",
       " 'HADOOP',\n",
       " 'Hadoop Common is the common library for Apache Hadoop.',\n",
       " 'owen.omalley',\n",
       " '12334403',\n",
       " 'Bug',\n",
       " 'http://hadoop.apache.org/',\n",
       " 'UNASSIGNED',\n",
       " 'Hadoop Common',\n",
       " dict_keys(['Developers', 'Contributors', 'PMC', 'Committers', 'Administrators', 'ASF Members', 'Users', 'Contributors 1']),\n",
       " 'software')"
      ]
     },
     "execution_count": 63,
     "metadata": {},
     "output_type": "execute_result"
    }
   ],
   "source": [
    "hadoop_data['id'], hadoop_data['key'], hadoop_data['description'], \\\n",
    "hadoop_data['lead']['key'], hadoop_data['components'][0]['id'], \\\n",
    "hadoop_data['issueTypes'][0]['name'], hadoop_data['url'], \\\n",
    "hadoop_data['assigneeType'], hadoop_data['name'], \\\n",
    "hadoop_data['roles'].keys(), hadoop_data['projectTypeKey']"
   ]
  },
  {
   "cell_type": "markdown",
   "metadata": {},
   "source": [
    "## Important attributes (Per Issue)"
   ]
  },
  {
   "cell_type": "code",
   "execution_count": 70,
   "metadata": {},
   "outputs": [
    {
     "data": {
      "text/plain": [
       "('13203378',\n",
       " 'HADOOP-15994',\n",
       " 'Improvement',\n",
       " False,\n",
       " None,\n",
       " '12310240',\n",
       " 'HADOOP',\n",
       " None,\n",
       " 'Fixed',\n",
       " '2018-12-10T14:17:17.000+0000',\n",
       " None,\n",
       " 1,\n",
       " '2018-12-10T09:12:49.000+0000',\n",
       " 'Major',\n",
       " [],\n",
       " None,\n",
       " None,\n",
       " 'is related to',\n",
       " 'relates to',\n",
       " 'HADOOP-9991',\n",
       " 'Fix up Hadoop POMs, roll up JARs to latest versions',\n",
       " 'To Do',\n",
       " 'Major',\n",
       " 'Improvement',\n",
       " False,\n",
       " 'jack-lee',\n",
       " '2018-12-10T14:17:17.000+0000',\n",
       " 'Resolved',\n",
       " 'security',\n",
       " None,\n",
       " \"Now Jackson 2.9.5 is used and it is vulnerable (CVE-2018-11307). Let's upgrade to 2.9.6 or upper.\",\n",
       " None,\n",
       " 'Upgrade Jackson2 to the latest version',\n",
       " 'ajisakaa',\n",
       " [],\n",
       " 'ajisakaa',\n",
       " 0,\n",
       " 0,\n",
       " None,\n",
       " 0,\n",
       " 0,\n",
       " 0)"
      ]
     },
     "execution_count": 70,
     "metadata": {},
     "output_type": "execute_result"
    }
   ],
   "source": [
    "issues[0]['id'], issues[0]['key'], \\\n",
    "issues[0]['fields']['issuetype']['name'], \\\n",
    "issues[0]['fields']['issuetype']['subtask'], \\\n",
    "issues[0]['fields']['timespent'], \\\n",
    "issues[0]['fields']['project']['id'], issues[0]['fields']['project']['key'], \\\n",
    "issues[0]['fields']['aggregatetimespent'], issues[0]['fields']['resolution']['name'], \\\n",
    "issues[0]['fields']['resolutiondate'], issues[0]['fields']['lastViewed'], \\\n",
    "issues[0]['fields']['watches']['watchCount'], issues[0]['fields']['created'], \\\n",
    "issues[0]['fields']['priority']['name'], issues[0]['fields']['labels'], \\\n",
    "issues[0]['fields']['timeestimate'], issues[0]['fields']['aggregatetimeoriginalestimate'], \\\n",
    "issues[0]['fields']['issuelinks'][0]['type']['inward'], \\\n",
    "issues[0]['fields']['issuelinks'][0]['type']['outward'], \\\n",
    "issues[0]['fields']['issuelinks'][0]['outwardIssue']['key'], \\\n",
    "issues[0]['fields']['issuelinks'][0]['outwardIssue']['fields']['summary'], \\\n",
    "issues[0]['fields']['issuelinks'][0]['outwardIssue']['fields']['status']['statusCategory']['name'], \\\n",
    "issues[0]['fields']['issuelinks'][0]['outwardIssue']['fields']['priority']['name'], \\\n",
    "issues[0]['fields']['issuelinks'][0]['outwardIssue']['fields']['issuetype']['name'], \\\n",
    "issues[0]['fields']['issuelinks'][0]['outwardIssue']['fields']['issuetype']['subtask'], \\\n",
    "issues[0]['fields']['assignee']['key'], issues[0]['fields']['updated'], \\\n",
    "issues[0]['fields']['status']['name'], issues[0]['fields']['components'][0]['name'], \\\n",
    "issues[0]['fields']['timeoriginalestimate'], issues[0]['fields']['description'], \\\n",
    "issues[0]['fields']['aggregatetimeestimate'], issues[0]['fields']['summary'], \\\n",
    "issues[0]['fields']['creator']['key'], issues[0]['fields']['subtasks'], \\\n",
    "issues[0]['fields']['reporter']['key'], issues[0]['fields']['aggregateprogress']['progress'], \\\n",
    "issues[0]['fields']['aggregateprogress']['total'], issues[0]['fields']['duedate'], \\\n",
    "issues[0]['fields']['progress']['progress'], issues[0]['fields']['progress']['total'], \\\n",
    "issues[0]['fields']['votes']['votes']"
   ]
  },
  {
   "cell_type": "markdown",
   "metadata": {},
   "source": [
    "## Attributes' categorical values"
   ]
  },
  {
   "cell_type": "markdown",
   "metadata": {},
   "source": [
    "### Issues' type values"
   ]
  },
  {
   "cell_type": "code",
   "execution_count": 79,
   "metadata": {},
   "outputs": [
    {
     "data": {
      "text/plain": [
       "{'Bug', 'Improvement', 'New Feature', 'Sub-task', 'Task', 'Test', 'Wish'}"
      ]
     },
     "execution_count": 79,
     "metadata": {},
     "output_type": "execute_result"
    }
   ],
   "source": [
    "set(issue['fields']['issuetype']['name'] for issue in issues)"
   ]
  },
  {
   "cell_type": "markdown",
   "metadata": {},
   "source": [
    "### Issues' resolution values"
   ]
  },
  {
   "cell_type": "code",
   "execution_count": 92,
   "metadata": {},
   "outputs": [
    {
     "data": {
      "text/plain": [
       "{'Cannot Reproduce',\n",
       " 'Done',\n",
       " 'Duplicate',\n",
       " 'Fixed',\n",
       " 'Implemented',\n",
       " 'Invalid',\n",
       " 'NONE_VALUE',\n",
       " 'Not A Bug',\n",
       " 'Not A Problem',\n",
       " 'Resolved',\n",
       " \"Won't Fix\"}"
      ]
     },
     "execution_count": 92,
     "metadata": {},
     "output_type": "execute_result"
    }
   ],
   "source": [
    "set(issue['fields']['resolution']['name'] if issue['fields']['resolution'] else 'NONE_VALUE' for issue in issues)"
   ]
  },
  {
   "cell_type": "markdown",
   "metadata": {},
   "source": [
    "### Issues' importance/priority values"
   ]
  },
  {
   "cell_type": "code",
   "execution_count": 94,
   "metadata": {},
   "outputs": [
    {
     "data": {
      "text/plain": [
       "{'Blocker', 'Critical', 'Major', 'Minor', 'Trivial'}"
      ]
     },
     "execution_count": 94,
     "metadata": {},
     "output_type": "execute_result"
    }
   ],
   "source": [
    "set(issue['fields']['priority']['name'] for issue in issues)"
   ]
  },
  {
   "cell_type": "markdown",
   "metadata": {},
   "source": [
    "### Issues' label values"
   ]
  },
  {
   "cell_type": "code",
   "execution_count": 105,
   "metadata": {},
   "outputs": [
    {
     "data": {
      "text/plain": [
       "{'BB2015-05-TBR',\n",
       " 'GraphiteSink,',\n",
       " 'IPv6',\n",
       " 'Java9',\n",
       " 'KeyStore',\n",
       " 'Security',\n",
       " 'WASB',\n",
       " 'Windows',\n",
       " 'bash',\n",
       " 'build',\n",
       " 'common',\n",
       " 'distcp',\n",
       " 'docker',\n",
       " 'docuentation',\n",
       " 'documentation',\n",
       " 'easy-fix',\n",
       " 'easyfix',\n",
       " 'features',\n",
       " 'filesystem',\n",
       " 'flaky-test',\n",
       " 'fs',\n",
       " 'hadoop-tools',\n",
       " 'incompatibleChange',\n",
       " 'javadoc',\n",
       " 'jdk9',\n",
       " 'kms',\n",
       " 'log',\n",
       " 'metrics',\n",
       " 'newbie',\n",
       " 'patch',\n",
       " 'performance',\n",
       " 'security',\n",
       " 'shell-script',\n",
       " 'statistics',\n",
       " 'supportability',\n",
       " 'tpm',\n",
       " 'trunk',\n",
       " 'wavefront',\n",
       " 'windows'}"
      ]
     },
     "execution_count": 105,
     "metadata": {},
     "output_type": "execute_result"
    }
   ],
   "source": [
    "set(chain.from_iterable(issue['fields']['labels'] for issue in issues))"
   ]
  },
  {
   "cell_type": "markdown",
   "metadata": {},
   "source": [
    "### Issues' dependency values"
   ]
  },
  {
   "cell_type": "code",
   "execution_count": 112,
   "metadata": {},
   "outputs": [
    {
     "data": {
      "text/plain": [
       "{'Blocked',\n",
       " 'Dependent',\n",
       " 'Is contained by',\n",
       " 'is a child of',\n",
       " 'is blocked by',\n",
       " 'is broken by',\n",
       " 'is caused by',\n",
       " 'is cloned by',\n",
       " 'is depended upon by',\n",
       " 'is duplicated by',\n",
       " 'is part of',\n",
       " 'is related to',\n",
       " 'is required by',\n",
       " 'is superceded by'}"
      ]
     },
     "execution_count": 112,
     "metadata": {},
     "output_type": "execute_result"
    }
   ],
   "source": [
    "set(issuelink['type']['inward'] for issue in issues for issuelink in issue['fields']['issuelinks'])"
   ]
  },
  {
   "cell_type": "code",
   "execution_count": 113,
   "metadata": {},
   "outputs": [
    {
     "data": {
      "text/plain": [
       "{'Blocked',\n",
       " 'Dependent',\n",
       " 'blocks',\n",
       " 'breaks',\n",
       " 'causes',\n",
       " 'contains',\n",
       " 'depends upon',\n",
       " 'duplicates',\n",
       " 'incorporates',\n",
       " 'is a clone of',\n",
       " 'is a parent of',\n",
       " 'relates to',\n",
       " 'requires',\n",
       " 'supercedes'}"
      ]
     },
     "execution_count": 113,
     "metadata": {},
     "output_type": "execute_result"
    }
   ],
   "source": [
    "set(issuelink['type']['outward'] for issue in issues for issuelink in issue['fields']['issuelinks'])"
   ]
  },
  {
   "cell_type": "markdown",
   "metadata": {},
   "source": [
    "### Dependent Issues' status values"
   ]
  },
  {
   "cell_type": "code",
   "execution_count": 133,
   "metadata": {},
   "outputs": [
    {
     "data": {
      "text/plain": [
       "{'Done', 'In Progress', 'To Do'}"
      ]
     },
     "execution_count": 133,
     "metadata": {},
     "output_type": "execute_result"
    }
   ],
   "source": [
    "set(issuelink['outwardIssue']['fields']['status']['statusCategory']['name'] if issuelink.get('outwardIssue', None) else issuelink['inwardIssue']['fields']['status']['statusCategory']['name'] for issue in issues for issuelink in issue['fields']['issuelinks'])"
   ]
  },
  {
   "cell_type": "markdown",
   "metadata": {},
   "source": [
    "### Dependent Issues' importance/priority values"
   ]
  },
  {
   "cell_type": "code",
   "execution_count": 137,
   "metadata": {},
   "outputs": [
    {
     "data": {
      "text/plain": [
       "{'Blocker', 'Critical', 'Major', 'Minor', 'Trivial'}"
      ]
     },
     "execution_count": 137,
     "metadata": {},
     "output_type": "execute_result"
    }
   ],
   "source": [
    "set(issuelink['outwardIssue']['fields']['priority']['name'] if issuelink.get('outwardIssue', None) else issuelink['inwardIssue']['fields']['priority']['name'] for issue in issues for issuelink in issue['fields']['issuelinks'])"
   ]
  },
  {
   "cell_type": "markdown",
   "metadata": {},
   "source": [
    "### Issues' status values"
   ]
  },
  {
   "cell_type": "code",
   "execution_count": 146,
   "metadata": {},
   "outputs": [
    {
     "data": {
      "text/plain": [
       "{'Closed', 'In Progress', 'Open', 'Patch Available', 'Reopened', 'Resolved'}"
      ]
     },
     "execution_count": 146,
     "metadata": {},
     "output_type": "execute_result"
    }
   ],
   "source": [
    "set(issue['fields']['status']['name'] for issue in issues)"
   ]
  },
  {
   "cell_type": "markdown",
   "metadata": {},
   "source": [
    "## Insights - Results"
   ]
  },
  {
   "cell_type": "code",
   "execution_count": null,
   "metadata": {},
   "outputs": [],
   "source": []
  }
 ],
 "metadata": {
  "kernelspec": {
   "display_name": "Python 3",
   "language": "python",
   "name": "python3"
  },
  "language_info": {
   "codemirror_mode": {
    "name": "ipython",
    "version": 3
   },
   "file_extension": ".py",
   "mimetype": "text/x-python",
   "name": "python",
   "nbconvert_exporter": "python",
   "pygments_lexer": "ipython3",
   "version": "3.7.0"
  }
 },
 "nbformat": 4,
 "nbformat_minor": 2
}
