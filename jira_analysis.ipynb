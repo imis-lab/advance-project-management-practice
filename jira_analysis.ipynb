{
 "cells": [
  {
   "cell_type": "markdown",
   "metadata": {},
   "source": [
    "# Jira HADOOP data analysis"
   ]
  },
  {
   "cell_type": "code",
   "execution_count": 1,
   "metadata": {},
   "outputs": [],
   "source": [
    "import json\n",
    "from itertools import chain\n",
    "import pandas as pd\n",
    "from sklearn.cluster import KMeans\n",
    "from sklearn.neighbors import NearestNeighbors\n",
    "import numpy as np\n",
    "import matplotlib.pyplot as plt\n",
    "%matplotlib inline"
   ]
  },
  {
   "cell_type": "code",
   "execution_count": 2,
   "metadata": {},
   "outputs": [],
   "source": [
    "with open('data/hadoop_issues.json') as f:\n",
    "    issues = json.load(f)\n",
    "issues = issues['issues']"
   ]
  },
  {
   "cell_type": "code",
   "execution_count": 3,
   "metadata": {},
   "outputs": [],
   "source": [
    "with open('data/hadoop_issues_comments.json') as f:\n",
    "    comments = json.load(f)"
   ]
  },
  {
   "cell_type": "markdown",
   "metadata": {},
   "source": [
    "## Important attributes (Per Issue)"
   ]
  },
  {
   "cell_type": "code",
   "execution_count": 4,
   "metadata": {},
   "outputs": [
    {
     "data": {
      "text/plain": [
       "('13203378',\n",
       " 'HADOOP-15994',\n",
       " 'Improvement',\n",
       " False,\n",
       " None,\n",
       " '12310240',\n",
       " 'HADOOP',\n",
       " None,\n",
       " 'Fixed',\n",
       " '2018-12-10T14:17:17.000+0000',\n",
       " None,\n",
       " 1,\n",
       " '2018-12-10T09:12:49.000+0000',\n",
       " 'Major',\n",
       " [],\n",
       " None,\n",
       " None,\n",
       " 'is related to',\n",
       " 'relates to',\n",
       " 'HADOOP-9991',\n",
       " 'Fix up Hadoop POMs, roll up JARs to latest versions',\n",
       " 'To Do',\n",
       " 'Major',\n",
       " 'Improvement',\n",
       " False,\n",
       " 'jack-lee',\n",
       " '2018-12-10T14:17:17.000+0000',\n",
       " 'Resolved',\n",
       " 'security',\n",
       " None,\n",
       " \"Now Jackson 2.9.5 is used and it is vulnerable (CVE-2018-11307). Let's upgrade to 2.9.6 or upper.\",\n",
       " None,\n",
       " 'Upgrade Jackson2 to the latest version',\n",
       " 'ajisakaa',\n",
       " [],\n",
       " 'ajisakaa',\n",
       " 0,\n",
       " 0,\n",
       " None,\n",
       " 0,\n",
       " 0,\n",
       " 0)"
      ]
     },
     "execution_count": 4,
     "metadata": {},
     "output_type": "execute_result"
    }
   ],
   "source": [
    "issues[0]['id'], issues[0]['key'], \\\n",
    "issues[0]['fields']['issuetype']['name'], \\\n",
    "issues[0]['fields']['issuetype']['subtask'], \\\n",
    "issues[0]['fields']['timespent'], \\\n",
    "issues[0]['fields']['project']['id'], issues[0]['fields']['project']['key'], \\\n",
    "issues[0]['fields']['aggregatetimespent'], issues[0]['fields']['resolution']['name'], \\\n",
    "issues[0]['fields']['resolutiondate'], issues[0]['fields']['lastViewed'], \\\n",
    "issues[0]['fields']['watches']['watchCount'], issues[0]['fields']['created'], \\\n",
    "issues[0]['fields']['priority']['name'], issues[0]['fields']['labels'], \\\n",
    "issues[0]['fields']['timeestimate'], issues[0]['fields']['aggregatetimeoriginalestimate'], \\\n",
    "issues[0]['fields']['issuelinks'][0]['type']['inward'], \\\n",
    "issues[0]['fields']['issuelinks'][0]['type']['outward'], \\\n",
    "issues[0]['fields']['issuelinks'][0]['outwardIssue']['key'], \\\n",
    "issues[0]['fields']['issuelinks'][0]['outwardIssue']['fields']['summary'], \\\n",
    "issues[0]['fields']['issuelinks'][0]['outwardIssue']['fields']['status']['statusCategory']['name'], \\\n",
    "issues[0]['fields']['issuelinks'][0]['outwardIssue']['fields']['priority']['name'], \\\n",
    "issues[0]['fields']['issuelinks'][0]['outwardIssue']['fields']['issuetype']['name'], \\\n",
    "issues[0]['fields']['issuelinks'][0]['outwardIssue']['fields']['issuetype']['subtask'], \\\n",
    "issues[0]['fields']['assignee']['key'], issues[0]['fields']['updated'], \\\n",
    "issues[0]['fields']['status']['name'], issues[0]['fields']['components'][0]['name'], \\\n",
    "issues[0]['fields']['timeoriginalestimate'], issues[0]['fields']['description'], \\\n",
    "issues[0]['fields']['aggregatetimeestimate'], issues[0]['fields']['summary'], \\\n",
    "issues[0]['fields']['creator']['key'], issues[0]['fields']['subtasks'], \\\n",
    "issues[0]['fields']['reporter']['key'], issues[0]['fields']['aggregateprogress']['progress'], \\\n",
    "issues[0]['fields']['aggregateprogress']['total'], issues[0]['fields']['duedate'], \\\n",
    "issues[0]['fields']['progress']['progress'], issues[0]['fields']['progress']['total'], \\\n",
    "issues[0]['fields']['votes']['votes']"
   ]
  },
  {
   "cell_type": "markdown",
   "metadata": {},
   "source": [
    "## Attributes' categorical values"
   ]
  },
  {
   "cell_type": "markdown",
   "metadata": {},
   "source": [
    "### Issues' type values"
   ]
  },
  {
   "cell_type": "code",
   "execution_count": 5,
   "metadata": {},
   "outputs": [
    {
     "data": {
      "text/plain": [
       "{'Bug', 'Improvement', 'New Feature', 'Sub-task', 'Task', 'Test', 'Wish'}"
      ]
     },
     "execution_count": 5,
     "metadata": {},
     "output_type": "execute_result"
    }
   ],
   "source": [
    "type_values = set(issue['fields']['issuetype']['name'] for issue in issues)\n",
    "type_values"
   ]
  },
  {
   "cell_type": "markdown",
   "metadata": {},
   "source": [
    "### Issues' resolution values"
   ]
  },
  {
   "cell_type": "code",
   "execution_count": 6,
   "metadata": {},
   "outputs": [
    {
     "data": {
      "text/plain": [
       "{'Cannot Reproduce',\n",
       " 'Done',\n",
       " 'Duplicate',\n",
       " 'Fixed',\n",
       " 'Implemented',\n",
       " 'Invalid',\n",
       " 'NONE_VALUE',\n",
       " 'Not A Bug',\n",
       " 'Not A Problem',\n",
       " 'Resolved',\n",
       " \"Won't Fix\"}"
      ]
     },
     "execution_count": 6,
     "metadata": {},
     "output_type": "execute_result"
    }
   ],
   "source": [
    "set(issue['fields']['resolution']['name'] if issue['fields']['resolution'] else 'NONE_VALUE' for issue in issues)"
   ]
  },
  {
   "cell_type": "markdown",
   "metadata": {},
   "source": [
    "### Issues' importance/priority values"
   ]
  },
  {
   "cell_type": "code",
   "execution_count": 7,
   "metadata": {},
   "outputs": [
    {
     "data": {
      "text/plain": [
       "{'Blocker', 'Critical', 'Major', 'Minor', 'Trivial'}"
      ]
     },
     "execution_count": 7,
     "metadata": {},
     "output_type": "execute_result"
    }
   ],
   "source": [
    "priority_values = set(issue['fields']['priority']['name'] for issue in issues)\n",
    "priority_values"
   ]
  },
  {
   "cell_type": "markdown",
   "metadata": {},
   "source": [
    "### Issues' label values"
   ]
  },
  {
   "cell_type": "code",
   "execution_count": 8,
   "metadata": {},
   "outputs": [
    {
     "data": {
      "text/plain": [
       "{'BB2015-05-TBR',\n",
       " 'GraphiteSink,',\n",
       " 'IPv6',\n",
       " 'Java9',\n",
       " 'KeyStore',\n",
       " 'Security',\n",
       " 'WASB',\n",
       " 'Windows',\n",
       " 'bash',\n",
       " 'build',\n",
       " 'common',\n",
       " 'distcp',\n",
       " 'docker',\n",
       " 'docuentation',\n",
       " 'documentation',\n",
       " 'easy-fix',\n",
       " 'easyfix',\n",
       " 'features',\n",
       " 'filesystem',\n",
       " 'flaky-test',\n",
       " 'fs',\n",
       " 'hadoop-tools',\n",
       " 'incompatibleChange',\n",
       " 'javadoc',\n",
       " 'jdk9',\n",
       " 'kms',\n",
       " 'log',\n",
       " 'metrics',\n",
       " 'newbie',\n",
       " 'patch',\n",
       " 'performance',\n",
       " 'security',\n",
       " 'shell-script',\n",
       " 'statistics',\n",
       " 'supportability',\n",
       " 'tpm',\n",
       " 'trunk',\n",
       " 'wavefront',\n",
       " 'windows'}"
      ]
     },
     "execution_count": 8,
     "metadata": {},
     "output_type": "execute_result"
    }
   ],
   "source": [
    "label_values = set(chain.from_iterable(issue['fields']['labels'] for issue in issues))\n",
    "label_values"
   ]
  },
  {
   "cell_type": "markdown",
   "metadata": {},
   "source": [
    "### Issues' dependency values"
   ]
  },
  {
   "cell_type": "code",
   "execution_count": 9,
   "metadata": {},
   "outputs": [
    {
     "data": {
      "text/plain": [
       "{'Blocked',\n",
       " 'Dependent',\n",
       " 'Is contained by',\n",
       " 'is a child of',\n",
       " 'is blocked by',\n",
       " 'is broken by',\n",
       " 'is caused by',\n",
       " 'is cloned by',\n",
       " 'is depended upon by',\n",
       " 'is duplicated by',\n",
       " 'is part of',\n",
       " 'is related to',\n",
       " 'is required by',\n",
       " 'is superceded by'}"
      ]
     },
     "execution_count": 9,
     "metadata": {},
     "output_type": "execute_result"
    }
   ],
   "source": [
    "set(issuelink['type']['inward'] for issue in issues for issuelink in issue['fields']['issuelinks'])"
   ]
  },
  {
   "cell_type": "code",
   "execution_count": 10,
   "metadata": {},
   "outputs": [
    {
     "data": {
      "text/plain": [
       "{'Blocked',\n",
       " 'Dependent',\n",
       " 'blocks',\n",
       " 'breaks',\n",
       " 'causes',\n",
       " 'contains',\n",
       " 'depends upon',\n",
       " 'duplicates',\n",
       " 'incorporates',\n",
       " 'is a clone of',\n",
       " 'is a parent of',\n",
       " 'relates to',\n",
       " 'requires',\n",
       " 'supercedes'}"
      ]
     },
     "execution_count": 10,
     "metadata": {},
     "output_type": "execute_result"
    }
   ],
   "source": [
    "set(issuelink['type']['outward'] for issue in issues for issuelink in issue['fields']['issuelinks'])"
   ]
  },
  {
   "cell_type": "markdown",
   "metadata": {},
   "source": [
    "### Dependent Issues' status values"
   ]
  },
  {
   "cell_type": "code",
   "execution_count": 11,
   "metadata": {},
   "outputs": [
    {
     "data": {
      "text/plain": [
       "{'Done', 'In Progress', 'To Do'}"
      ]
     },
     "execution_count": 11,
     "metadata": {},
     "output_type": "execute_result"
    }
   ],
   "source": [
    "set(issuelink['outwardIssue']['fields']['status']['statusCategory']['name'] if issuelink.get('outwardIssue', None) else issuelink['inwardIssue']['fields']['status']['statusCategory']['name'] for issue in issues for issuelink in issue['fields']['issuelinks'])"
   ]
  },
  {
   "cell_type": "markdown",
   "metadata": {},
   "source": [
    "### Dependent Issues' importance/priority values"
   ]
  },
  {
   "cell_type": "code",
   "execution_count": 12,
   "metadata": {},
   "outputs": [
    {
     "data": {
      "text/plain": [
       "{'Blocker', 'Critical', 'Major', 'Minor', 'Trivial'}"
      ]
     },
     "execution_count": 12,
     "metadata": {},
     "output_type": "execute_result"
    }
   ],
   "source": [
    "set(issuelink['outwardIssue']['fields']['priority']['name'] if issuelink.get('outwardIssue', None) else issuelink['inwardIssue']['fields']['priority']['name'] for issue in issues for issuelink in issue['fields']['issuelinks'])"
   ]
  },
  {
   "cell_type": "markdown",
   "metadata": {},
   "source": [
    "### Issues' status values"
   ]
  },
  {
   "cell_type": "code",
   "execution_count": 13,
   "metadata": {},
   "outputs": [
    {
     "data": {
      "text/plain": [
       "{'Closed', 'In Progress', 'Open', 'Patch Available', 'Reopened', 'Resolved'}"
      ]
     },
     "execution_count": 13,
     "metadata": {},
     "output_type": "execute_result"
    }
   ],
   "source": [
    "set(issue['fields']['status']['name'] for issue in issues)"
   ]
  },
  {
   "cell_type": "code",
   "execution_count": 14,
   "metadata": {},
   "outputs": [],
   "source": [
    "issues[0]['fields']['timespent']"
   ]
  },
  {
   "cell_type": "code",
   "execution_count": 15,
   "metadata": {},
   "outputs": [],
   "source": [
    "columns = {\n",
    "    'is_subtask': [issue['fields']['issuetype']['subtask'] for issue in issues],\n",
    "    'status': [issue['fields']['status']['name'] for issue in issues],\n",
    "    'time_spent': [issue['fields']['timespent'] for issue in issues],\n",
    "    'aggregate_time_spent': [issue['fields']['aggregatetimespent'] for issue in issues],\n",
    "    'resolution_date': [issue['fields']['resolutiondate'] for issue in issues],\n",
    "    'last_viewed': [issue['fields']['lastViewed'] for issue in issues],\n",
    "    'number_of_watchers': [issue['fields']['watches']['watchCount'] for issue in issues],\n",
    "    'created': [issue['fields']['created'] for issue in issues],\n",
    "    'priority': [issue['fields']['priority']['name'] for issue in issues],\n",
    "    'number_of_labels': [len(issue['fields']['labels']) for issue in issues],\n",
    "    'time_estimate': [issues[0]['fields']['timeestimate'] for issue in issues],\n",
    "    'aggregate_time_original_estimate': [issue['fields']['aggregatetimeoriginalestimate'] for issue in issues],\n",
    "    'number_of_issue_links': [len(issue['fields']['issuelinks']) for issue in issues],\n",
    "    'updated': [issue['fields']['updated'] for issue in issues],\n",
    "    'time_original_estimate': [issue['fields']['timeoriginalestimate'] for issue in issues],\n",
    "    'description': [issue['fields']['description'] for issue in issues],\n",
    "    'number_of_description_words': [len(issue['fields']['description'].split()) if issue['fields']['description'] else 0 for issue in issues],\n",
    "    'length_of_description': [len(issue['fields']['description']) if issue['fields']['description'] else 0 for issue in issues],\n",
    "    'aggregate_time_estimate': [issue['fields']['aggregatetimeestimate'] for issue in issues],\n",
    "    'summary': [issue['fields']['summary'] for issue in issues],\n",
    "    'number_of_summary_words': [len(issue['fields']['summary'].split()) for issue in issues],\n",
    "    'length_of_summary': [len(issue['fields']['summary']) for issue in issues],\n",
    "    'number_of_subtasks': [len(issue['fields']['subtasks']) for issue in issues],\n",
    "    'aggregate_progress': [issue['fields']['aggregateprogress']['progress'] for issue in issues],\n",
    "    'aggregate_progress_total': [issue['fields']['aggregateprogress']['total'] for issue in issues],\n",
    "    'due_date': [issue['fields']['duedate'] for issue in issues],\n",
    "    'progress': [issue['fields']['progress']['progress'] for issue in issues],\n",
    "    'number_of_votes': [issue['fields']['votes']['votes'] for issue in issues],\n",
    "}"
   ]
  },
  {
   "cell_type": "code",
   "execution_count": 16,
   "metadata": {},
   "outputs": [],
   "source": [
    "issues_df = pd.DataFrame.from_dict(columns)"
   ]
  },
  {
   "cell_type": "markdown",
   "metadata": {},
   "source": [
    "## Statistics (mean, std, unique values, plots)"
   ]
  },
  {
   "cell_type": "markdown",
   "metadata": {},
   "source": [
    "### Number of votes"
   ]
  },
  {
   "cell_type": "code",
   "execution_count": 17,
   "metadata": {},
   "outputs": [
    {
     "data": {
      "text/plain": [
       "count    1000.000000\n",
       "mean        0.025000\n",
       "std         0.224556\n",
       "min         0.000000\n",
       "25%         0.000000\n",
       "50%         0.000000\n",
       "75%         0.000000\n",
       "max         5.000000\n",
       "Name: number_of_votes, dtype: float64"
      ]
     },
     "execution_count": 17,
     "metadata": {},
     "output_type": "execute_result"
    }
   ],
   "source": [
    "issues_df['number_of_votes'].describe()"
   ]
  },
  {
   "cell_type": "code",
   "execution_count": 18,
   "metadata": {},
   "outputs": [
    {
     "data": {
      "text/plain": [
       "0    981\n",
       "1     17\n",
       "5      1\n",
       "3      1\n",
       "Name: number_of_votes, dtype: int64"
      ]
     },
     "execution_count": 18,
     "metadata": {},
     "output_type": "execute_result"
    }
   ],
   "source": [
    "issues_df['number_of_votes'].value_counts()"
   ]
  },
  {
   "cell_type": "code",
   "execution_count": 19,
   "metadata": {},
   "outputs": [
    {
     "data": {
      "text/plain": [
       "Text(0, 0.5, 'number of issues')"
      ]
     },
     "execution_count": 19,
     "metadata": {},
     "output_type": "execute_result"
    },
    {
     "data": {
      "image/png": "[encoded data removed]",
      "text/plain": [
       "<Figure size 432x288 with 1 Axes>"
      ]
     },
     "metadata": {
      "needs_background": "light"
     },
     "output_type": "display_data"
    }
   ],
   "source": [
    "ax = issues_df['number_of_votes'].value_counts().plot(kind='bar')\n",
    "ax.set_xlabel('number of votes')\n",
    "ax.set_ylabel('number of issues')"
   ]
  },
  {
   "cell_type": "markdown",
   "metadata": {},
   "source": [
    "### Number of watchers"
   ]
  },
  {
   "cell_type": "code",
   "execution_count": 20,
   "metadata": {},
   "outputs": [
    {
     "data": {
      "text/plain": [
       "count    1000.000000\n",
       "mean        4.332000\n",
       "std         3.143829\n",
       "min         0.000000\n",
       "25%         2.000000\n",
       "50%         4.000000\n",
       "75%         5.000000\n",
       "max        42.000000\n",
       "Name: number_of_watchers, dtype: float64"
      ]
     },
     "execution_count": 20,
     "metadata": {},
     "output_type": "execute_result"
    }
   ],
   "source": [
    "issues_df['number_of_watchers'].describe()"
   ]
  },
  {
   "cell_type": "code",
   "execution_count": 21,
   "metadata": {},
   "outputs": [
    {
     "data": {
      "text/plain": [
       "3     203\n",
       "4     191\n",
       "2     157\n",
       "5     110\n",
       "1      95\n",
       "6      93\n",
       "7      49\n",
       "8      33\n",
       "10     18\n",
       "9      17\n",
       "12      7\n",
       "11      6\n",
       "18      3\n",
       "15      3\n",
       "14      3\n",
       "13      3\n",
       "0       2\n",
       "16      2\n",
       "30      1\n",
       "17      1\n",
       "24      1\n",
       "27      1\n",
       "42      1\n",
       "Name: number_of_watchers, dtype: int64"
      ]
     },
     "execution_count": 21,
     "metadata": {},
     "output_type": "execute_result"
    }
   ],
   "source": [
    "issues_df['number_of_watchers'].value_counts()"
   ]
  },
  {
   "cell_type": "code",
   "execution_count": 22,
   "metadata": {},
   "outputs": [
    {
     "data": {
      "text/plain": [
       "Text(0, 0.5, 'number of issues')"
      ]
     },
     "execution_count": 22,
     "metadata": {},
     "output_type": "execute_result"
    },
    {
     "data": {
      "image/png": "[encoded data removed]",
      "text/plain": [
       "<Figure size 432x288 with 1 Axes>"
      ]
     },
     "metadata": {
      "needs_background": "light"
     },
     "output_type": "display_data"
    }
   ],
   "source": [
    "ax = issues_df['number_of_watchers'].value_counts().plot(kind='bar')\n",
    "ax.set_xlabel('number of watchers')\n",
    "ax.set_ylabel('number of issues')"
   ]
  },
  {
   "cell_type": "markdown",
   "metadata": {},
   "source": [
    "### Is subtask?"
   ]
  },
  {
   "cell_type": "code",
   "execution_count": 23,
   "metadata": {},
   "outputs": [
    {
     "data": {
      "text/plain": [
       "count      1000\n",
       "unique        2\n",
       "top       False\n",
       "freq        658\n",
       "Name: is_subtask, dtype: object"
      ]
     },
     "execution_count": 23,
     "metadata": {},
     "output_type": "execute_result"
    }
   ],
   "source": [
    "issues_df['is_subtask'].describe()"
   ]
  },
  {
   "cell_type": "code",
   "execution_count": 24,
   "metadata": {},
   "outputs": [
    {
     "data": {
      "text/plain": [
       "False    658\n",
       "True     342\n",
       "Name: is_subtask, dtype: int64"
      ]
     },
     "execution_count": 24,
     "metadata": {},
     "output_type": "execute_result"
    }
   ],
   "source": [
    "issues_df['is_subtask'].value_counts()"
   ]
  },
  {
   "cell_type": "code",
   "execution_count": 25,
   "metadata": {},
   "outputs": [
    {
     "data": {
      "text/plain": [
       "Text(0, 0.5, 'number of issues')"
      ]
     },
     "execution_count": 25,
     "metadata": {},
     "output_type": "execute_result"
    },
    {
     "data": {
      "image/png": "[encoded data removed]",
      "text/plain": [
       "<Figure size 432x288 with 1 Axes>"
      ]
     },
     "metadata": {
      "needs_background": "light"
     },
     "output_type": "display_data"
    }
   ],
   "source": [
    "ax = issues_df['is_subtask'].value_counts().plot(kind='bar')\n",
    "ax.set_xlabel('is subtask?')\n",
    "ax.set_ylabel('number of issues')"
   ]
  },
  {
   "cell_type": "markdown",
   "metadata": {},
   "source": [
    "### Status"
   ]
  },
  {
   "cell_type": "code",
   "execution_count": 26,
   "metadata": {},
   "outputs": [
    {
     "data": {
      "text/plain": [
       "count         1000\n",
       "unique           6\n",
       "top       Resolved\n",
       "freq           587\n",
       "Name: status, dtype: object"
      ]
     },
     "execution_count": 26,
     "metadata": {},
     "output_type": "execute_result"
    }
   ],
   "source": [
    "issues_df['status'].describe()"
   ]
  },
  {
   "cell_type": "code",
   "execution_count": 27,
   "metadata": {},
   "outputs": [
    {
     "data": {
      "text/plain": [
       "Resolved           587\n",
       "Open               292\n",
       "Patch Available    108\n",
       "In Progress          5\n",
       "Reopened             4\n",
       "Closed               4\n",
       "Name: status, dtype: int64"
      ]
     },
     "execution_count": 27,
     "metadata": {},
     "output_type": "execute_result"
    }
   ],
   "source": [
    "issues_df['status'].value_counts()"
   ]
  },
  {
   "cell_type": "code",
   "execution_count": 28,
   "metadata": {},
   "outputs": [
    {
     "data": {
      "text/plain": [
       "Text(0, 0.5, 'number of issues')"
      ]
     },
     "execution_count": 28,
     "metadata": {},
     "output_type": "execute_result"
    },
    {
     "data": {
      "image/png": "[encoded data removed]",
      "text/plain": [
       "<Figure size 432x288 with 1 Axes>"
      ]
     },
     "metadata": {
      "needs_background": "light"
     },
     "output_type": "display_data"
    }
   ],
   "source": [
    "ax = issues_df['status'].value_counts().plot(kind='bar')\n",
    "ax.set_xlabel('status')\n",
    "ax.set_ylabel('number of issues')"
   ]
  },
  {
   "cell_type": "markdown",
   "metadata": {},
   "source": [
    "### Priority"
   ]
  },
  {
   "cell_type": "code",
   "execution_count": 29,
   "metadata": {},
   "outputs": [
    {
     "data": {
      "text/plain": [
       "count      1000\n",
       "unique        5\n",
       "top       Major\n",
       "freq        630\n",
       "Name: priority, dtype: object"
      ]
     },
     "execution_count": 29,
     "metadata": {},
     "output_type": "execute_result"
    }
   ],
   "source": [
    "issues_df['priority'].describe()"
   ]
  },
  {
   "cell_type": "code",
   "execution_count": 30,
   "metadata": {},
   "outputs": [
    {
     "data": {
      "text/plain": [
       "Major       630\n",
       "Minor       243\n",
       "Blocker      47\n",
       "Critical     46\n",
       "Trivial      34\n",
       "Name: priority, dtype: int64"
      ]
     },
     "execution_count": 30,
     "metadata": {},
     "output_type": "execute_result"
    }
   ],
   "source": [
    "issues_df['priority'].value_counts()"
   ]
  },
  {
   "cell_type": "code",
   "execution_count": 31,
   "metadata": {},
   "outputs": [
    {
     "data": {
      "text/plain": [
       "Text(0, 0.5, 'number of issues')"
      ]
     },
     "execution_count": 31,
     "metadata": {},
     "output_type": "execute_result"
    },
    {
     "data": {
      "image/png": "[encoded data removed]",
      "text/plain": [
       "<Figure size 432x288 with 1 Axes>"
      ]
     },
     "metadata": {
      "needs_background": "light"
     },
     "output_type": "display_data"
    }
   ],
   "source": [
    "ax = issues_df['priority'].value_counts().plot(kind='bar')\n",
    "ax.set_xlabel('priority')\n",
    "ax.set_ylabel('number of issues')"
   ]
  },
  {
   "cell_type": "markdown",
   "metadata": {},
   "source": [
    "### Number of labels"
   ]
  },
  {
   "cell_type": "code",
   "execution_count": 32,
   "metadata": {},
   "outputs": [
    {
     "data": {
      "text/plain": [
       "count    1000.000000\n",
       "mean        0.076000\n",
       "std         0.346907\n",
       "min         0.000000\n",
       "25%         0.000000\n",
       "50%         0.000000\n",
       "75%         0.000000\n",
       "max         4.000000\n",
       "Name: number_of_labels, dtype: float64"
      ]
     },
     "execution_count": 32,
     "metadata": {},
     "output_type": "execute_result"
    }
   ],
   "source": [
    "issues_df['number_of_labels'].describe()"
   ]
  },
  {
   "cell_type": "code",
   "execution_count": 33,
   "metadata": {},
   "outputs": [
    {
     "data": {
      "text/plain": [
       "0    942\n",
       "1     46\n",
       "2      7\n",
       "3      4\n",
       "4      1\n",
       "Name: number_of_labels, dtype: int64"
      ]
     },
     "execution_count": 33,
     "metadata": {},
     "output_type": "execute_result"
    }
   ],
   "source": [
    "issues_df['number_of_labels'].value_counts()"
   ]
  },
  {
   "cell_type": "code",
   "execution_count": 34,
   "metadata": {},
   "outputs": [
    {
     "data": {
      "text/plain": [
       "Text(0, 0.5, 'number of issues')"
      ]
     },
     "execution_count": 34,
     "metadata": {},
     "output_type": "execute_result"
    },
    {
     "data": {
      "image/png": "[encoded data removed]",
      "text/plain": [
       "<Figure size 432x288 with 1 Axes>"
      ]
     },
     "metadata": {
      "needs_background": "light"
     },
     "output_type": "display_data"
    }
   ],
   "source": [
    "ax = issues_df['number_of_labels'].value_counts().plot(kind='bar')\n",
    "ax.set_xlabel('number of labels')\n",
    "ax.set_ylabel('number of issues')"
   ]
  },
  {
   "cell_type": "markdown",
   "metadata": {},
   "source": [
    "### Number of issue_links"
   ]
  },
  {
   "cell_type": "code",
   "execution_count": 35,
   "metadata": {},
   "outputs": [
    {
     "data": {
      "text/plain": [
       "count    1000.000000\n",
       "mean        0.858000\n",
       "std         2.686085\n",
       "min         0.000000\n",
       "25%         0.000000\n",
       "50%         0.000000\n",
       "75%         1.000000\n",
       "max        74.000000\n",
       "Name: number_of_issue_links, dtype: float64"
      ]
     },
     "execution_count": 35,
     "metadata": {},
     "output_type": "execute_result"
    }
   ],
   "source": [
    "issues_df['number_of_issue_links'].describe()"
   ]
  },
  {
   "cell_type": "code",
   "execution_count": 36,
   "metadata": {},
   "outputs": [
    {
     "data": {
      "text/plain": [
       "0     555\n",
       "1     273\n",
       "2      97\n",
       "3      42\n",
       "4      14\n",
       "5       7\n",
       "9       3\n",
       "6       3\n",
       "11      2\n",
       "74      1\n",
       "18      1\n",
       "8       1\n",
       "7       1\n",
       "Name: number_of_issue_links, dtype: int64"
      ]
     },
     "execution_count": 36,
     "metadata": {},
     "output_type": "execute_result"
    }
   ],
   "source": [
    "issues_df['number_of_issue_links'].value_counts()"
   ]
  },
  {
   "cell_type": "code",
   "execution_count": 37,
   "metadata": {},
   "outputs": [
    {
     "data": {
      "text/plain": [
       "Text(0, 0.5, 'number of issue links')"
      ]
     },
     "execution_count": 37,
     "metadata": {},
     "output_type": "execute_result"
    },
    {
     "data": {
      "image/png": "[encoded data removed]",
      "text/plain": [
       "<Figure size 432x288 with 1 Axes>"
      ]
     },
     "metadata": {
      "needs_background": "light"
     },
     "output_type": "display_data"
    }
   ],
   "source": [
    "ax = issues_df['number_of_issue_links'].value_counts().plot(kind='bar')\n",
    "ax.set_xlabel('number of labels')\n",
    "ax.set_ylabel('number of issue links')"
   ]
  },
  {
   "cell_type": "markdown",
   "metadata": {},
   "source": [
    "### Number of description words"
   ]
  },
  {
   "cell_type": "code",
   "execution_count": 38,
   "metadata": {},
   "outputs": [
    {
     "data": {
      "text/plain": [
       "count    1000.000000\n",
       "mean       80.737000\n",
       "std        98.579825\n",
       "min         0.000000\n",
       "25%        27.000000\n",
       "50%        52.500000\n",
       "75%       100.000000\n",
       "max      1177.000000\n",
       "Name: number_of_description_words, dtype: float64"
      ]
     },
     "execution_count": 38,
     "metadata": {},
     "output_type": "execute_result"
    }
   ],
   "source": [
    "issues_df['number_of_description_words'].describe()"
   ]
  },
  {
   "cell_type": "code",
   "execution_count": 39,
   "metadata": {},
   "outputs": [
    {
     "data": {
      "text/plain": [
       "(100.0, 200.0]      171\n",
       "(20.0, 30.0]        118\n",
       "(10.0, 20.0]        107\n",
       "(40.0, 50.0]         98\n",
       "(30.0, 40.0]         93\n",
       "(-0.001, 10.0]       71\n",
       "(50.0, 60.0]         70\n",
       "(60.0, 70.0]         60\n",
       "(70.0, 80.0]         58\n",
       "(80.0, 90.0]         42\n",
       "(90.0, 100.0]        39\n",
       "(200.0, 300.0]       38\n",
       "(300.0, 400.0]       20\n",
       "(500.0, 1000.0]      10\n",
       "(400.0, 500.0]        4\n",
       "(1000.0, 1200.0]      1\n",
       "Name: number_of_description_words, dtype: int64"
      ]
     },
     "execution_count": 39,
     "metadata": {},
     "output_type": "execute_result"
    }
   ],
   "source": [
    "pd.cut(issues_df['number_of_description_words'], bins=[0, 10, 20, 30, 40, 50, 60, 70, 80, 90, 100, 200, 300, 400, 500, 1000, 1200], include_lowest=True).value_counts()"
   ]
  },
  {
   "cell_type": "code",
   "execution_count": 40,
   "metadata": {},
   "outputs": [
    {
     "data": {
      "text/plain": [
       "<matplotlib.axes._subplots.AxesSubplot at 0x7ff87f0ef588>"
      ]
     },
     "execution_count": 40,
     "metadata": {},
     "output_type": "execute_result"
    },
    {
     "data": {
      "image/png": "[encoded data removed]",
      "text/plain": [
       "<Figure size 432x288 with 1 Axes>"
      ]
     },
     "metadata": {
      "needs_background": "light"
     },
     "output_type": "display_data"
    }
   ],
   "source": [
    "pd.cut(issues_df['number_of_description_words'], bins=[0, 10, 20, 30, 40, 50, 60, 70, 80, 90, 100, 200, 300, 400, 500, 1000, 1200], include_lowest=True).value_counts().plot(kind='bar')"
   ]
  },
  {
   "cell_type": "markdown",
   "metadata": {},
   "source": [
    "### Number of summary words"
   ]
  },
  {
   "cell_type": "code",
   "execution_count": 41,
   "metadata": {},
   "outputs": [
    {
     "data": {
      "text/plain": [
       "count    1000.000000\n",
       "mean        7.651000\n",
       "std         2.922283\n",
       "min         1.000000\n",
       "25%         5.000000\n",
       "50%         7.000000\n",
       "75%         9.000000\n",
       "max        20.000000\n",
       "Name: number_of_summary_words, dtype: float64"
      ]
     },
     "execution_count": 41,
     "metadata": {},
     "output_type": "execute_result"
    }
   ],
   "source": [
    "issues_df['number_of_summary_words'].describe()"
   ]
  },
  {
   "cell_type": "code",
   "execution_count": 42,
   "metadata": {},
   "outputs": [
    {
     "data": {
      "text/plain": [
       "6     141\n",
       "7     126\n",
       "5     124\n",
       "8     123\n",
       "9     110\n",
       "10     83\n",
       "4      70\n",
       "11     62\n",
       "3      44\n",
       "12     40\n",
       "13     31\n",
       "14     14\n",
       "2      11\n",
       "15      9\n",
       "16      7\n",
       "1       2\n",
       "18      1\n",
       "17      1\n",
       "20      1\n",
       "Name: number_of_summary_words, dtype: int64"
      ]
     },
     "execution_count": 42,
     "metadata": {},
     "output_type": "execute_result"
    }
   ],
   "source": [
    "issues_df['number_of_summary_words'].value_counts()"
   ]
  },
  {
   "cell_type": "code",
   "execution_count": 43,
   "metadata": {},
   "outputs": [
    {
     "data": {
      "text/plain": [
       "<matplotlib.axes._subplots.AxesSubplot at 0x7ff87f077d68>"
      ]
     },
     "execution_count": 43,
     "metadata": {},
     "output_type": "execute_result"
    },
    {
     "data": {
      "image/png": "[encoded data removed]",
      "text/plain": [
       "<Figure size 432x288 with 1 Axes>"
      ]
     },
     "metadata": {
      "needs_background": "light"
     },
     "output_type": "display_data"
    }
   ],
   "source": [
    "issues_df['number_of_summary_words'].value_counts().plot(kind='bar')"
   ]
  },
  {
   "cell_type": "markdown",
   "metadata": {},
   "source": [
    "### Number of subtasks"
   ]
  },
  {
   "cell_type": "code",
   "execution_count": 44,
   "metadata": {},
   "outputs": [
    {
     "data": {
      "text/plain": [
       "count    1000.000000\n",
       "mean        0.379000\n",
       "std         4.649837\n",
       "min         0.000000\n",
       "25%         0.000000\n",
       "50%         0.000000\n",
       "75%         0.000000\n",
       "max       116.000000\n",
       "Name: number_of_subtasks, dtype: float64"
      ]
     },
     "execution_count": 44,
     "metadata": {},
     "output_type": "execute_result"
    }
   ],
   "source": [
    "issues_df['number_of_subtasks'].describe()"
   ]
  },
  {
   "cell_type": "code",
   "execution_count": 45,
   "metadata": {},
   "outputs": [
    {
     "data": {
      "text/plain": [
       "0      985\n",
       "116      1\n",
       "48       1\n",
       "43       1\n",
       "32       1\n",
       "31       1\n",
       "30       1\n",
       "27       1\n",
       "14       1\n",
       "13       1\n",
       "10       1\n",
       "5        1\n",
       "4        1\n",
       "3        1\n",
       "2        1\n",
       "1        1\n",
       "Name: number_of_subtasks, dtype: int64"
      ]
     },
     "execution_count": 45,
     "metadata": {},
     "output_type": "execute_result"
    }
   ],
   "source": [
    "issues_df['number_of_subtasks'].value_counts()"
   ]
  },
  {
   "cell_type": "code",
   "execution_count": 46,
   "metadata": {
    "scrolled": true
   },
   "outputs": [
    {
     "data": {
      "text/plain": [
       "<matplotlib.axes._subplots.AxesSubplot at 0x7ff87efa5fd0>"
      ]
     },
     "execution_count": 46,
     "metadata": {},
     "output_type": "execute_result"
    },
    {
     "data": {
      "image/png": "[encoded data removed]",
      "text/plain": [
       "<Figure size 432x288 with 1 Axes>"
      ]
     },
     "metadata": {
      "needs_background": "light"
     },
     "output_type": "display_data"
    }
   ],
   "source": [
    "issues_df['number_of_subtasks'].value_counts().plot(kind='bar')"
   ]
  },
  {
   "cell_type": "markdown",
   "metadata": {},
   "source": [
    "### What about due dates, times and progress status?!"
   ]
  },
  {
   "cell_type": "markdown",
   "metadata": {},
   "source": [
    "#### Only 2 out of 1000 due dates are not null!"
   ]
  },
  {
   "cell_type": "code",
   "execution_count": 47,
   "metadata": {},
   "outputs": [
    {
     "data": {
      "text/plain": [
       "2018-02-28    1\n",
       "2018-05-07    1\n",
       "Name: due_date, dtype: int64"
      ]
     },
     "execution_count": 47,
     "metadata": {},
     "output_type": "execute_result"
    }
   ],
   "source": [
    "issues_df['due_date'].value_counts()"
   ]
  },
  {
   "cell_type": "markdown",
   "metadata": {},
   "source": [
    "#### 1000 out of 1000 progress are null!"
   ]
  },
  {
   "cell_type": "code",
   "execution_count": 48,
   "metadata": {},
   "outputs": [
    {
     "data": {
      "text/plain": [
       "0    1000\n",
       "Name: progress, dtype: int64"
      ]
     },
     "execution_count": 48,
     "metadata": {},
     "output_type": "execute_result"
    }
   ],
   "source": [
    "issues_df['progress'].value_counts()"
   ]
  },
  {
   "cell_type": "markdown",
   "metadata": {},
   "source": [
    "#### 8 out of 1000 issues have a time estimation!"
   ]
  },
  {
   "cell_type": "code",
   "execution_count": 49,
   "metadata": {},
   "outputs": [
    {
     "data": {
      "text/plain": [
       "345600.0     2\n",
       "7257600.0    1\n",
       "3600.0       1\n",
       "1814400.0    1\n",
       "60.0         1\n",
       "300.0        1\n",
       "0.0          1\n",
       "Name: time_original_estimate, dtype: int64"
      ]
     },
     "execution_count": 49,
     "metadata": {},
     "output_type": "execute_result"
    }
   ],
   "source": [
    "issues_df['time_original_estimate'].value_counts()"
   ]
  },
  {
   "cell_type": "code",
   "execution_count": 50,
   "metadata": {},
   "outputs": [
    {
     "data": {
      "text/html": [
       "<div>\n",
       "<style scoped>\n",
       "    .dataframe tbody tr th:only-of-type {\n",
       "        vertical-align: middle;\n",
       "    }\n",
       "\n",
       "    .dataframe tbody tr th {\n",
       "        vertical-align: top;\n",
       "    }\n",
       "\n",
       "    .dataframe thead th {\n",
       "        text-align: right;\n",
       "    }\n",
       "</style>\n",
       "<table border=\"1\" class=\"dataframe\">\n",
       "  <thead>\n",
       "    <tr style=\"text-align: right;\">\n",
       "      <th></th>\n",
       "      <th>due_date</th>\n",
       "      <th>progress</th>\n",
       "      <th>status</th>\n",
       "      <th>time_spent</th>\n",
       "      <th>time_estimate</th>\n",
       "      <th>time_original_estimate</th>\n",
       "      <th>aggregate_time_estimate</th>\n",
       "    </tr>\n",
       "  </thead>\n",
       "  <tbody>\n",
       "    <tr>\n",
       "      <th>count</th>\n",
       "      <td>2</td>\n",
       "      <td>1000.0</td>\n",
       "      <td>1000</td>\n",
       "      <td>0.0</td>\n",
       "      <td>0.0</td>\n",
       "      <td>8.000000e+00</td>\n",
       "      <td>1.000000e+01</td>\n",
       "    </tr>\n",
       "    <tr>\n",
       "      <th>unique</th>\n",
       "      <td>2</td>\n",
       "      <td>NaN</td>\n",
       "      <td>6</td>\n",
       "      <td>0.0</td>\n",
       "      <td>0.0</td>\n",
       "      <td>NaN</td>\n",
       "      <td>NaN</td>\n",
       "    </tr>\n",
       "    <tr>\n",
       "      <th>top</th>\n",
       "      <td>2018-02-28</td>\n",
       "      <td>NaN</td>\n",
       "      <td>Resolved</td>\n",
       "      <td>NaN</td>\n",
       "      <td>NaN</td>\n",
       "      <td>NaN</td>\n",
       "      <td>NaN</td>\n",
       "    </tr>\n",
       "    <tr>\n",
       "      <th>freq</th>\n",
       "      <td>1</td>\n",
       "      <td>NaN</td>\n",
       "      <td>587</td>\n",
       "      <td>NaN</td>\n",
       "      <td>NaN</td>\n",
       "      <td>NaN</td>\n",
       "      <td>NaN</td>\n",
       "    </tr>\n",
       "    <tr>\n",
       "      <th>mean</th>\n",
       "      <td>NaN</td>\n",
       "      <td>0.0</td>\n",
       "      <td>NaN</td>\n",
       "      <td>NaN</td>\n",
       "      <td>NaN</td>\n",
       "      <td>1.220895e+06</td>\n",
       "      <td>9.785160e+05</td>\n",
       "    </tr>\n",
       "    <tr>\n",
       "      <th>std</th>\n",
       "      <td>NaN</td>\n",
       "      <td>0.0</td>\n",
       "      <td>NaN</td>\n",
       "      <td>NaN</td>\n",
       "      <td>NaN</td>\n",
       "      <td>2.515069e+06</td>\n",
       "      <td>2.276179e+06</td>\n",
       "    </tr>\n",
       "    <tr>\n",
       "      <th>min</th>\n",
       "      <td>NaN</td>\n",
       "      <td>0.0</td>\n",
       "      <td>NaN</td>\n",
       "      <td>NaN</td>\n",
       "      <td>NaN</td>\n",
       "      <td>0.000000e+00</td>\n",
       "      <td>0.000000e+00</td>\n",
       "    </tr>\n",
       "    <tr>\n",
       "      <th>25%</th>\n",
       "      <td>NaN</td>\n",
       "      <td>0.0</td>\n",
       "      <td>NaN</td>\n",
       "      <td>NaN</td>\n",
       "      <td>NaN</td>\n",
       "      <td>2.400000e+02</td>\n",
       "      <td>1.125000e+03</td>\n",
       "    </tr>\n",
       "    <tr>\n",
       "      <th>50%</th>\n",
       "      <td>NaN</td>\n",
       "      <td>0.0</td>\n",
       "      <td>NaN</td>\n",
       "      <td>NaN</td>\n",
       "      <td>NaN</td>\n",
       "      <td>1.746000e+05</td>\n",
       "      <td>9.000000e+03</td>\n",
       "    </tr>\n",
       "    <tr>\n",
       "      <th>75%</th>\n",
       "      <td>NaN</td>\n",
       "      <td>0.0</td>\n",
       "      <td>NaN</td>\n",
       "      <td>NaN</td>\n",
       "      <td>NaN</td>\n",
       "      <td>7.128000e+05</td>\n",
       "      <td>3.456000e+05</td>\n",
       "    </tr>\n",
       "    <tr>\n",
       "      <th>max</th>\n",
       "      <td>NaN</td>\n",
       "      <td>0.0</td>\n",
       "      <td>NaN</td>\n",
       "      <td>NaN</td>\n",
       "      <td>NaN</td>\n",
       "      <td>7.257600e+06</td>\n",
       "      <td>7.257600e+06</td>\n",
       "    </tr>\n",
       "  </tbody>\n",
       "</table>\n",
       "</div>"
      ],
      "text/plain": [
       "          due_date  progress    status  time_spent  time_estimate  \\\n",
       "count            2    1000.0      1000         0.0            0.0   \n",
       "unique           2       NaN         6         0.0            0.0   \n",
       "top     2018-02-28       NaN  Resolved         NaN            NaN   \n",
       "freq             1       NaN       587         NaN            NaN   \n",
       "mean           NaN       0.0       NaN         NaN            NaN   \n",
       "std            NaN       0.0       NaN         NaN            NaN   \n",
       "min            NaN       0.0       NaN         NaN            NaN   \n",
       "25%            NaN       0.0       NaN         NaN            NaN   \n",
       "50%            NaN       0.0       NaN         NaN            NaN   \n",
       "75%            NaN       0.0       NaN         NaN            NaN   \n",
       "max            NaN       0.0       NaN         NaN            NaN   \n",
       "\n",
       "        time_original_estimate  aggregate_time_estimate  \n",
       "count             8.000000e+00             1.000000e+01  \n",
       "unique                     NaN                      NaN  \n",
       "top                        NaN                      NaN  \n",
       "freq                       NaN                      NaN  \n",
       "mean              1.220895e+06             9.785160e+05  \n",
       "std               2.515069e+06             2.276179e+06  \n",
       "min               0.000000e+00             0.000000e+00  \n",
       "25%               2.400000e+02             1.125000e+03  \n",
       "50%               1.746000e+05             9.000000e+03  \n",
       "75%               7.128000e+05             3.456000e+05  \n",
       "max               7.257600e+06             7.257600e+06  "
      ]
     },
     "execution_count": 50,
     "metadata": {},
     "output_type": "execute_result"
    }
   ],
   "source": [
    "issues_df[['due_date', 'progress', 'status', 'time_spent', 'time_estimate', 'time_original_estimate', 'aggregate_time_estimate']].describe(include='all')"
   ]
  },
  {
   "cell_type": "markdown",
   "metadata": {},
   "source": [
    "## Example"
   ]
  },
  {
   "cell_type": "markdown",
   "metadata": {},
   "source": [
    "### Find similar issues - Cluster issues (using k-means or nearest neighbors algorithm)"
   ]
  },
  {
   "cell_type": "code",
   "execution_count": 51,
   "metadata": {},
   "outputs": [],
   "source": [
    "# Preparing data. Generating features.\n",
    "people = set([issue['fields']['reporter']['key'] for issue in issues] + [issue['fields']['assignee']['key'] for issue in issues if issue['fields']['assignee']] + \n",
    "             sum([[comment['author']['key'] for comment in comments[issue['key']]] for issue in issues], []))\n",
    "people.remove('hadoop3')\n",
    "people.remove('hadoopqa')\n",
    "people = sorted(list(people))\n",
    "priority_values_list = sorted([item.lower().strip() for item in list(priority_values)])\n",
    "issue_labels_list = sorted([item.lower().strip() for item in list(label_values)])\n",
    "type_values_list = sorted([item.lower().strip() for item in list(type_values)])"
   ]
  },
  {
   "cell_type": "code",
   "execution_count": 52,
   "metadata": {},
   "outputs": [],
   "source": [
    "# Generating features (columns attribute).\n",
    "for issue in issues:\n",
    "    assignee = [issue['fields']['assignee']['key']] if issue['fields']['assignee'] else []\n",
    "    issue['user_columns'] = [('user_%s'% (person), 1 if person in assignee + [issue['fields']['reporter']['key']] + [comment['author']['key'] for comment in comments[issue['key']]]  else 0)  for person in people]\n",
    "    issue['priority_columns'] = [('priority_%s' % (priority), 1 if issue['fields']['priority']['name'].lower().strip() == priority else 0) for priority in priority_values_list]\n",
    "    issue['label_columns'] = [('label_%s' % (label), 1 if label in [item.lower().strip() for item in issue['fields']['labels']] else 0) for label in issue_labels_list]\n",
    "    issue['type_columns'] = [('type_%s' % (type_value), 1 if type_value == issue['fields']['issuetype']['name'].lower().strip() else 0) for type_value in type_values_list]\n",
    "    issue['columns'] = issue['user_columns'] + issue['priority_columns'] + issue['label_columns'] + issue['type_columns']"
   ]
  },
  {
   "cell_type": "markdown",
   "metadata": {},
   "source": [
    "### K-Means algorithm"
   ]
  },
  {
   "cell_type": "code",
   "execution_count": 53,
   "metadata": {},
   "outputs": [
    {
     "name": "stdout",
     "output_type": "stream",
     "text": [
      "Test issue: HADOOP-14960\n"
     ]
    }
   ],
   "source": [
    "# Use the last issue as a test.\n",
    "X = [[column[1] for column in issue['columns']] for issue in issues]\n",
    "test_issue = X[-1]\n",
    "print('Test issue: %s' % (issues[-1]['key']))\n",
    "X = np.array(X[:-1])\n",
    "# Implement the 'Elbow' method.\n",
    "# WCSS = (within-cluster sums of squares).\n",
    "wcss = []\n",
    "for i in range(1, 11):\n",
    "    kmeans = KMeans(n_clusters=i, init='k-means++', random_state=42)\n",
    "    kmeans.fit(X)\n",
    "    wcss.append(kmeans.inertia_)"
   ]
  },
  {
   "cell_type": "code",
   "execution_count": 54,
   "metadata": {},
   "outputs": [
    {
     "data": {
      "image/png": "[encoded data removed]",
      "text/plain": [
       "<Figure size 432x288 with 1 Axes>"
      ]
     },
     "metadata": {
      "needs_background": "light"
     },
     "output_type": "display_data"
    }
   ],
   "source": [
    "plt.plot(range(1, 11), wcss)\n",
    "plt.title('The Elbow Method')\n",
    "plt.xlabel('Number of clusters')\n",
    "plt.ylabel('WCSS (within-cluster sums of squares)')\n",
    "plt.show()"
   ]
  },
  {
   "cell_type": "markdown",
   "metadata": {},
   "source": [
    "4 or 5 number of clusters looks good, according to the elbow plot. Let's use **5**. Furthermore, the number of priority categories is also 5. "
   ]
  },
  {
   "cell_type": "code",
   "execution_count": 55,
   "metadata": {},
   "outputs": [],
   "source": [
    "kmeans = KMeans(n_clusters=5, random_state=42).fit(X)\n",
    "group_of_test_issue = kmeans.predict([test_issue])[0]"
   ]
  },
  {
   "cell_type": "code",
   "execution_count": 56,
   "metadata": {},
   "outputs": [],
   "source": [
    "group_positions = np.nonzero(kmeans.labels_ == group_of_test_issue)[0]"
   ]
  },
  {
   "cell_type": "markdown",
   "metadata": {},
   "source": [
    "### Nearest Neighbors algorithm"
   ]
  },
  {
   "cell_type": "code",
   "execution_count": 57,
   "metadata": {},
   "outputs": [],
   "source": [
    "neigh = NearestNeighbors(n_neighbors=10)\n",
    "neigh.fit(X)\n",
    "k_nearest_positions = neigh.kneighbors([test_issue], return_distance=False)[0]"
   ]
  },
  {
   "cell_type": "markdown",
   "metadata": {},
   "source": [
    "### Recommend users which can help with the test issue"
   ]
  },
  {
   "cell_type": "code",
   "execution_count": 58,
   "metadata": {},
   "outputs": [],
   "source": [
    "def recommend_users(positions, number_of_users=10):\n",
    "    group_issues = [issues[index] for index in positions]\n",
    "    occurrence_of_users = np.sum([[column[1] for column in issue['user_columns']] for issue in group_issues], axis=0)\n",
    "    best_users_positions = occurrence_of_users.argsort()[-number_of_users:][::-1]\n",
    "    for index in best_users_positions:\n",
    "        print('Contact user \"%s\" in order to help.' % (group_issues[0]['user_columns'][index][0].split('user_')[1]))"
   ]
  },
  {
   "cell_type": "code",
   "execution_count": 59,
   "metadata": {},
   "outputs": [
    {
     "name": "stdout",
     "output_type": "stream",
     "text": [
      "Contact user \"genericqa\" in order to help.\n",
      "Contact user \"hudson\" in order to help.\n",
      "Contact user \"stevel@apache.org\" in order to help.\n",
      "Contact user \"ajisakaa\" in order to help.\n",
      "Contact user \"xiaochen\" in order to help.\n",
      "Contact user \"jojochuang\" in order to help.\n",
      "Contact user \"arpitagarwal\" in order to help.\n",
      "Contact user \"ajayydv\" in order to help.\n",
      "Contact user \"sunilg\" in order to help.\n",
      "Contact user \"elgoiri\" in order to help.\n"
     ]
    }
   ],
   "source": [
    "recommend_users(group_positions)"
   ]
  },
  {
   "cell_type": "code",
   "execution_count": 60,
   "metadata": {},
   "outputs": [
    {
     "name": "stdout",
     "output_type": "stream",
     "text": [
      "Contact user \"xiaochen\" in order to help.\n",
      "Contact user \"hudson\" in order to help.\n",
      "Contact user \"genericqa\" in order to help.\n",
      "Contact user \"xkrogen\" in order to help.\n",
      "Contact user \"arpitagarwal\" in order to help.\n",
      "Contact user \"kihwal\" in order to help.\n",
      "Contact user \"rkanter\" in order to help.\n",
      "Contact user \"csun\" in order to help.\n",
      "Contact user \"xyao\" in order to help.\n",
      "Contact user \"haibochen\" in order to help.\n"
     ]
    }
   ],
   "source": [
    "recommend_users(k_nearest_positions)"
   ]
  },
  {
   "cell_type": "code",
   "execution_count": null,
   "metadata": {},
   "outputs": [],
   "source": []
  }
 ],
 "metadata": {
  "kernelspec": {
   "display_name": "Python 3",
   "language": "python",
   "name": "python3"
  },
  "language_info": {
   "codemirror_mode": {
    "name": "ipython",
    "version": 3
   },
   "file_extension": ".py",
   "mimetype": "text/x-python",
   "name": "python",
   "nbconvert_exporter": "python",
   "pygments_lexer": "ipython3",
   "version": "3.7.2"
  }
 },
 "nbformat": 4,
 "nbformat_minor": 2
}
